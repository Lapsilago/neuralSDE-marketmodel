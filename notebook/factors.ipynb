{
 "cells": [
  {
   "cell_type": "markdown",
   "metadata": {},
   "source": [
    "This notebook shows a few exploratory examples of decoding factors from call option prices simulated from a Heston-SLV model."
   ]
  },
  {
   "cell_type": "code",
   "execution_count": 1,
   "metadata": {
    "ExecuteTime": {
     "end_time": "2022-06-17T08:59:16.441119Z",
     "start_time": "2022-06-17T08:59:11.333455Z"
    }
   },
   "outputs": [],
   "source": [
    "import os\n",
    "import sys\n",
    "import pickle\n",
    "import random\n",
    "import warnings\n",
    "warnings.filterwarnings(\"ignore\")\n",
    "\n",
    "# add the path of packages to system path\n",
    "nb_dir = os.path.split(os.getcwd())[0]\n",
    "if nb_dir not in sys.path:\n",
    "    sys.path.append(nb_dir)\n",
    "\n",
    "# add packages for computation\n",
    "import numpy as np\n",
    "import pandas as pd\n",
    "import marketmodel.loader as loader\n",
    "import marketmodel.utils as utils\n",
    "\n",
    "from marketmodel.factors import PrepTrainData, DecodeFactor\n",
    "from marketmodel.loader import DataHestonSlv\n",
    "from marketmodel.neuralsde import Train, Simulate, Model\n",
    "\n",
    "# load configurations\n",
    "hp_model_S = utils.Config.hp_model_S\n",
    "hp_model_mu = utils.Config.hp_model_mu\n",
    "hp_model_xi = utils.Config.hp_model_xi\n",
    "hp_sde_transform = utils.Config.hp_sde_transform\n",
    "\n",
    "# set paths\n",
    "hestonslv_fname = '../input/sim_hestonslv.pkl'\n",
    "checkpoint_model_S_initial = '../output/checkpoint/initial_model_S/model_S_0'"
   ]
  },
  {
   "cell_type": "markdown",
   "metadata": {},
   "source": [
    "# Load and pre-process data"
   ]
  },
  {
   "cell_type": "code",
   "execution_count": 2,
   "metadata": {
    "ExecuteTime": {
     "end_time": "2022-06-17T09:00:00.840438Z",
     "start_time": "2022-06-17T08:59:16.444280Z"
    }
   },
   "outputs": [
    {
     "name": "stderr",
     "output_type": "stream",
     "text": [
      "2022-06-17 16:59:16.714811: I tensorflow/core/platform/cpu_feature_guard.cc:193] This TensorFlow binary is optimized with oneAPI Deep Neural Network Library (oneDNN) to use the following CPU instructions in performance-critical operations:  AVX2 FMA\n",
      "To enable them in other operations, rebuild TensorFlow with the appropriate compiler flags.\n",
      "100%|██████████████████████████████████████████████████| 10000/10000 [00:42<00:00, 236.19it/s]\n"
     ]
    },
    {
     "name": "stdout",
     "output_type": "stream",
     "text": [
      "313/313 [==============================] - 0s 889us/step\n"
     ]
    },
    {
     "name": "stderr",
     "output_type": "stream",
     "text": [
      "100%|██████████████████████████████████████████████████████| 281/281 [00:00<00:00, 608.49it/s]\n"
     ]
    }
   ],
   "source": [
    "# load Heston-SLV simulation data\n",
    "St, vt, list_exp, list_mny, cs_ts_raw, cs_ts, mask_quality_value, \\\n",
    "Ts, ks, mat_A, vec_b = loader.load_hestonslv_data(hestonslv_fname)\n",
    "\n",
    "# load the trained initial model for S\n",
    "X_S, Y_S = PrepTrainData.prep_data_model_S_initial(\n",
    "    St, cs_ts, max_PC=7, factor_multiplier=1e5)\n",
    "\n",
    "model_S_initial = Model.construct_S(X_S.shape[1], X_S.shape[0], \n",
    "                                    hp_model_S['pruning_sparsity'],\n",
    "                                    hp_model_S['validation_split'],\n",
    "                                    hp_model_S['batch_size'],\n",
    "                                    hp_model_S['epochs'])\n",
    "model_S_initial.load_weights(checkpoint_model_S_initial)\n",
    "\n",
    "# calculate derivatives for the normalised call prices\n",
    "cT_ts, cm_ts, cmm_ts = PrepTrainData.calc_call_derivatives(\n",
    "    list_mny, list_exp, cs_ts_raw, mask_quality_value)\n",
    "\n",
    "z_ts = PrepTrainData.calc_zt(cT_ts, cm_ts, cmm_ts, model_S_initial, X_S)\n",
    "\n",
    "# define the effective constraints through their inequality constraints\n",
    "mask_redundant = DecodeFactor.find_redundant_constraints(-mat_A, -vec_b)\n",
    "mat_A_nec = mat_A[~mask_redundant, :]\n",
    "vec_b_nec = vec_b[~mask_redundant]"
   ]
  },
  {
   "cell_type": "markdown",
   "metadata": {},
   "source": [
    "# Decode factors"
   ]
  },
  {
   "cell_type": "code",
   "execution_count": 3,
   "metadata": {
    "ExecuteTime": {
     "end_time": "2022-06-17T09:00:00.848203Z",
     "start_time": "2022-06-17T09:00:00.842510Z"
    }
   },
   "outputs": [],
   "source": [
    "# calculate the constant term G0\n",
    "G0 = cs_ts.mean(axis=0)\n",
    "res0 = cs_ts - G0[None, :]"
   ]
  },
  {
   "cell_type": "markdown",
   "metadata": {},
   "source": [
    "## One dynamic arbitrage factor"
   ]
  },
  {
   "cell_type": "code",
   "execution_count": 4,
   "metadata": {
    "ExecuteTime": {
     "end_time": "2022-06-17T09:00:01.306554Z",
     "start_time": "2022-06-17T09:00:00.851962Z"
    }
   },
   "outputs": [
    {
     "name": "stdout",
     "output_type": "stream",
     "text": [
      "313/313 [==============================] - 0s 835us/step\n",
      "Residual norm: 0.3072\n",
      "MAPE:          24.37%\n",
      "PSAS:          60.67%\n",
      "PDA:           3.51%\n"
     ]
    }
   ],
   "source": [
    "# parameters\n",
    "n_da_factor = 1  # number of dynamic arbitrage factor\n",
    "\n",
    "# decode dynamic arbitrage factors\n",
    "G_da, xi_da = DecodeFactor.decode_dynarb_factor(\n",
    "    res0, n_da_factor, model_S_initial, X_S, cT_ts, cm_ts, cmm_ts)\n",
    "\n",
    "Gx = G_da\n",
    "X = xi_da\n",
    "\n",
    "res, mape, psas, pda = DecodeFactor.report_factor_metrics(G0, Gx, X, cs_ts, mat_A_nec, vec_b_nec, z_ts, True)"
   ]
  },
  {
   "cell_type": "markdown",
   "metadata": {},
   "source": [
    "## Two dynamic arbitrage factors"
   ]
  },
  {
   "cell_type": "code",
   "execution_count": 5,
   "metadata": {
    "ExecuteTime": {
     "end_time": "2022-06-17T09:00:01.771603Z",
     "start_time": "2022-06-17T09:00:01.309256Z"
    }
   },
   "outputs": [
    {
     "name": "stdout",
     "output_type": "stream",
     "text": [
      "313/313 [==============================] - 0s 888us/step\n",
      "Residual norm: 0.2852\n",
      "MAPE:          17.22%\n",
      "PSAS:          69.85%\n",
      "PDA:           0.75%\n"
     ]
    }
   ],
   "source": [
    "# parameters\n",
    "n_da_factor = 2  # number of dynamic arbitrage factor\n",
    "\n",
    "# decode dynamic arbitrage factors\n",
    "G_da, xi_da = DecodeFactor.decode_dynarb_factor(\n",
    "    res0, n_da_factor, model_S_initial, X_S, cT_ts, cm_ts, cmm_ts)\n",
    "\n",
    "Gx = G_da\n",
    "X = xi_da\n",
    "\n",
    "res, mape, psas, pda = DecodeFactor.report_factor_metrics(G0, Gx, X, cs_ts, mat_A_nec, vec_b_nec, z_ts, True)"
   ]
  },
  {
   "cell_type": "markdown",
   "metadata": {},
   "source": [
    "## One dynamic arbitrage factor and one static arbitrage factor"
   ]
  },
  {
   "cell_type": "code",
   "execution_count": 6,
   "metadata": {
    "ExecuteTime": {
     "end_time": "2022-06-17T09:01:37.309913Z",
     "start_time": "2022-06-17T09:00:01.773979Z"
    }
   },
   "outputs": [
    {
     "name": "stdout",
     "output_type": "stream",
     "text": [
      "313/313 [==============================] - 0s 911us/step\n",
      "Searching for the static-arbitrage minimisation direction for projection.\n",
      "****** Py-BOBYQA Results ******\n",
      "Solution xmin = [ 0.96461803 -0.25353509 -0.53838957  0.05788529  0.04651391 -0.01545341]\n",
      "Objective value f(xmin) = -9963.814951\n",
      "Needed 4376 objective evaluations (at 4376 points)\n",
      "Did a total of 32 runs\n",
      "Approximate gradient = [ -27.2596052  -109.67368418  201.95248586 -123.34596494  -76.76461807\n",
      " -146.39056229]\n",
      "Approximate Hessian = [[-2.20586069e+10 -1.07025971e+10 -1.74397814e+10 -4.70644908e+10\n",
      "  -5.37598755e+09  2.17433290e+10]\n",
      " [-1.07025971e+10  2.48556348e+10 -6.98958036e+09  7.08156703e+10\n",
      "  -1.14145649e+10 -4.88926199e+10]\n",
      " [-1.74397814e+10 -6.98958036e+09  4.13123070e+09 -4.93620968e+10\n",
      "   3.22913894e+10  2.25795178e+10]\n",
      " [-4.70644908e+10  7.08156703e+10 -4.93620968e+10  1.13419578e+11\n",
      "  -6.10612397e+09 -8.08627554e+09]\n",
      " [-5.37598755e+09 -1.14145649e+10  3.22913894e+10 -6.10612397e+09\n",
      "   1.92034148e+10  3.47523213e+10]\n",
      " [ 2.17433290e+10 -4.88926199e+10  2.25795178e+10 -8.08627554e+09\n",
      "   3.47523213e+10  4.73538263e+10]]\n",
      "Exit flag = 0\n",
      "Success: Reached maximum total number of unsuccessful restarts\n",
      "******************************\n",
      "\n"
     ]
    }
   ],
   "source": [
    "# parameters\n",
    "n_da_factor = 1  # number of dynamic arbitrage factor\n",
    "n_sa_factor = 1\n",
    "n_PC = 6\n",
    "\n",
    "# decode dynamic arbitrage factors\n",
    "G_da, xi_da = DecodeFactor.decode_dynarb_factor(\n",
    "    res0, n_da_factor, model_S_initial, X_S, cT_ts, cm_ts, cmm_ts)\n",
    "\n",
    "res1 = res0 - xi_da.dot(G_da)\n",
    "\n",
    "# decode static arbitrage factors\n",
    "rhs0 = vec_b_nec - G0.dot(mat_A_nec.T)\n",
    "rhs1 = rhs0[:, None] - mat_A_nec.dot(G_da.reshape((-1, 1))). \\\n",
    "    dot(xi_da.reshape((1, -1)))\n",
    "\n",
    "G_sa, xi_sa, weights = DecodeFactor.decode_stcarb_factor(\n",
    "    res1, n_sa_factor, n_PC, mat_A_nec, rhs1)"
   ]
  },
  {
   "cell_type": "code",
   "execution_count": 7,
   "metadata": {
    "ExecuteTime": {
     "end_time": "2022-06-17T09:01:37.351005Z",
     "start_time": "2022-06-17T09:01:37.313608Z"
    }
   },
   "outputs": [
    {
     "name": "stdout",
     "output_type": "stream",
     "text": [
      "Residual norm: 0.1850\n",
      "MAPE:          3.85%\n",
      "PSAS:          0.37%\n",
      "PDA:           2.96%\n"
     ]
    }
   ],
   "source": [
    "# combine factors\n",
    "Gx = np.vstack((G_da, G_sa))\n",
    "X = np.hstack((xi_da, xi_sa))\n",
    "\n",
    "res, mape, psas, pda = DecodeFactor.report_factor_metrics(G0, Gx, X, cs_ts, mat_A_nec, vec_b_nec, z_ts, True)"
   ]
  },
  {
   "cell_type": "markdown",
   "metadata": {},
   "source": [
    "## One dynamic factor and one statistical accuracy factor"
   ]
  },
  {
   "cell_type": "code",
   "execution_count": 8,
   "metadata": {
    "ExecuteTime": {
     "end_time": "2022-06-17T09:01:37.931201Z",
     "start_time": "2022-06-17T09:01:37.354473Z"
    }
   },
   "outputs": [
    {
     "name": "stdout",
     "output_type": "stream",
     "text": [
      "313/313 [==============================] - 0s 1ms/step\n",
      "Residual norm: 0.1129\n",
      "MAPE:          5.11%\n",
      "PSAS:          28.11%\n",
      "PDA:           3.21%\n"
     ]
    }
   ],
   "source": [
    "# parameters\n",
    "n_da_factor = 1  # number of dynamic arbitrage factor\n",
    "n_pca_factor = 1\n",
    "\n",
    "# decode dynamic arbitrage factors\n",
    "G_da, xi_da = DecodeFactor.decode_dynarb_factor(\n",
    "    res0, n_da_factor, model_S_initial, X_S, cT_ts, cm_ts, cmm_ts)\n",
    "\n",
    "res1 = res0 - xi_da.dot(G_da)\n",
    "\n",
    "G_pca, xi_pca = DecodeFactor.decode_pca_factor(res1, n_pca_factor)\n",
    "\n",
    "# combine factors\n",
    "Gx = np.vstack((G_da, G_pca))\n",
    "X = np.hstack((xi_da, xi_pca))\n",
    "\n",
    "res, mape, psas, pda = DecodeFactor.report_factor_metrics(G0, Gx, X, cs_ts, mat_A_nec, vec_b_nec, z_ts, True)"
   ]
  },
  {
   "cell_type": "markdown",
   "metadata": {},
   "source": [
    "## Two statistical accuracy factors"
   ]
  },
  {
   "cell_type": "code",
   "execution_count": 9,
   "metadata": {
    "ExecuteTime": {
     "end_time": "2022-06-17T09:01:38.011373Z",
     "start_time": "2022-06-17T09:01:37.934005Z"
    }
   },
   "outputs": [
    {
     "name": "stdout",
     "output_type": "stream",
     "text": [
      "Residual norm: 0.0728\n",
      "MAPE:          2.84%\n",
      "PSAS:          39.44%\n",
      "PDA:           4.46%\n"
     ]
    }
   ],
   "source": [
    "# parameters\n",
    "n_pca_factor = 2\n",
    "\n",
    "G_pca, xi_pca = DecodeFactor.decode_pca_factor(res0, n_pca_factor)\n",
    "\n",
    "# combine factors\n",
    "Gx = G_pca\n",
    "X = xi_pca\n",
    "\n",
    "res, mape, psas, pda = DecodeFactor.report_factor_metrics(G0, Gx, X, cs_ts, mat_A_nec, vec_b_nec, z_ts, True)"
   ]
  },
  {
   "cell_type": "code",
   "execution_count": null,
   "metadata": {},
   "outputs": [],
   "source": []
  }
 ],
 "metadata": {
  "kernelspec": {
   "display_name": "Python 3 (ipykernel)",
   "language": "python",
   "name": "python3"
  },
  "language_info": {
   "codemirror_mode": {
    "name": "ipython",
    "version": 3
   },
   "file_extension": ".py",
   "mimetype": "text/x-python",
   "name": "python",
   "nbconvert_exporter": "python",
   "pygments_lexer": "ipython3",
   "version": "3.8.8"
  },
  "toc": {
   "base_numbering": 1,
   "nav_menu": {},
   "number_sections": true,
   "sideBar": true,
   "skip_h1_title": false,
   "title_cell": "Table of Contents",
   "title_sidebar": "Contents",
   "toc_cell": false,
   "toc_position": {},
   "toc_section_display": true,
   "toc_window_display": true
  }
 },
 "nbformat": 4,
 "nbformat_minor": 4
}
