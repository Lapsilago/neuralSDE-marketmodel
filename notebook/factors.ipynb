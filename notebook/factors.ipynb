{
 "cells": [
  {
   "cell_type": "code",
   "execution_count": 1,
   "metadata": {
    "ExecuteTime": {
     "end_time": "2021-08-19T12:13:37.533030Z",
     "start_time": "2021-08-19T12:13:31.090855Z"
    }
   },
   "outputs": [],
   "source": [
    "import os\n",
    "import sys\n",
    "import pickle\n",
    "import random\n",
    "import warnings\n",
    "warnings.filterwarnings(\"ignore\")\n",
    "\n",
    "# add the path of packages to system path\n",
    "nb_dir = os.path.split(os.getcwd())[0]\n",
    "if nb_dir not in sys.path:\n",
    "    sys.path.append(nb_dir)\n",
    "\n",
    "# add packages for computation\n",
    "import numpy as np\n",
    "import pandas as pd\n",
    "import marketmodel.loader as loader\n",
    "import marketmodel.utils as utils\n",
    "\n",
    "from marketmodel.factors import PrepTrainData, DecodeFactor\n",
    "from marketmodel.loader import DataHestonSlv\n",
    "from marketmodel.neuralsde import Train, Simulate, Model\n",
    "\n",
    "# load configurations\n",
    "hp_model_S = utils.Config.hp_model_S\n",
    "hp_model_mu = utils.Config.hp_model_mu\n",
    "hp_model_xi = utils.Config.hp_model_xi\n",
    "hp_sde_transform = utils.Config.hp_sde_transform\n",
    "\n",
    "# set paths\n",
    "hestonslv_fname = '../input/sim_hestonslv.pkl'\n",
    "checkpoint_model_S_initial = '../output/checkpoint/initial_model_S/model_S_0'"
   ]
  },
  {
   "cell_type": "markdown",
   "metadata": {},
   "source": [
    "# Load and pre-process data"
   ]
  },
  {
   "cell_type": "code",
   "execution_count": 2,
   "metadata": {
    "ExecuteTime": {
     "end_time": "2021-08-19T12:14:08.645409Z",
     "start_time": "2021-08-19T12:13:37.535700Z"
    }
   },
   "outputs": [
    {
     "name": "stdout",
     "output_type": "stream",
     "text": [
      "WARNING:tensorflow:From /Users/vicaws/anaconda3/envs/marketmodel/lib/python3.6/site-packages/tensorflow_model_optimization/python/core/sparsity/keras/pruning_wrapper.py:200: Layer.add_variable (from tensorflow.python.keras.engine.base_layer) is deprecated and will be removed in a future version.\n",
      "Instructions for updating:\n",
      "Please use `layer.add_weight` method instead.\n"
     ]
    },
    {
     "name": "stderr",
     "output_type": "stream",
     "text": [
      "100%|██████████| 10000/10000 [00:28<00:00, 357.05it/s]\n",
      "100%|██████████| 281/281 [00:00<00:00, 323.94it/s]\n"
     ]
    }
   ],
   "source": [
    "# load Heston-SLV simulation data\n",
    "St, vt, list_exp, list_mny, cs_ts_raw, cs_ts, mask_quality_value, \\\n",
    "Ts, ks, mat_A, vec_b = loader.load_hestonslv_data(hestonslv_fname)\n",
    "\n",
    "# load the trained initial model for S\n",
    "X_S, Y_S = PrepTrainData.prep_data_model_S_initial(\n",
    "    St, cs_ts, max_PC=7, factor_multiplier=1e5)\n",
    "\n",
    "model_S_initial = Model.construct_S(X_S.shape[1], X_S.shape[0], \n",
    "                                    hp_model_S['pruning_sparsity'],\n",
    "                                    hp_model_S['validation_split'],\n",
    "                                    hp_model_S['batch_size'],\n",
    "                                    hp_model_S['epochs'])\n",
    "model_S_initial.load_weights(checkpoint_model_S_initial)\n",
    "\n",
    "# calculate derivatives for the normalised call prices\n",
    "cT_ts, cm_ts, cmm_ts = PrepTrainData.calc_call_derivatives(\n",
    "    list_mny, list_exp, cs_ts_raw, mask_quality_value)\n",
    "\n",
    "z_ts = PrepTrainData.calc_zt(cT_ts, cm_ts, cmm_ts, model_S_initial, X_S)\n",
    "\n",
    "# define the effective constraints through their inequality constraints\n",
    "mask_redundant = DecodeFactor.find_redundant_constraints(-mat_A, -vec_b)\n",
    "mat_A_nec = mat_A[~mask_redundant, :]\n",
    "vec_b_nec = vec_b[~mask_redundant]"
   ]
  },
  {
   "cell_type": "markdown",
   "metadata": {},
   "source": [
    "# Decode factors"
   ]
  },
  {
   "cell_type": "code",
   "execution_count": 3,
   "metadata": {
    "ExecuteTime": {
     "end_time": "2021-08-19T12:14:08.669593Z",
     "start_time": "2021-08-19T12:14:08.660170Z"
    }
   },
   "outputs": [],
   "source": [
    "# calculate the constant term G0\n",
    "G0 = cs_ts.mean(axis=0)\n",
    "res0 = cs_ts - G0[None, :]"
   ]
  },
  {
   "cell_type": "markdown",
   "metadata": {},
   "source": [
    "## One dynamic arbitrage factor"
   ]
  },
  {
   "cell_type": "code",
   "execution_count": 4,
   "metadata": {
    "ExecuteTime": {
     "end_time": "2021-08-19T12:14:09.096328Z",
     "start_time": "2021-08-19T12:14:08.672478Z"
    }
   },
   "outputs": [
    {
     "name": "stdout",
     "output_type": "stream",
     "text": [
      "Residual norm: 0.3072\n",
      "MAPE:          24.37%\n",
      "PSAS:          60.67%\n",
      "PDA:           3.51%\n"
     ]
    }
   ],
   "source": [
    "# parameters\n",
    "n_da_factor = 1  # number of dynamic arbitrage factor\n",
    "\n",
    "# decode dynamic arbitrage factors\n",
    "G_da, xi_da = DecodeFactor.decode_dynarb_factor(\n",
    "    res0, n_da_factor, model_S_initial, X_S, cT_ts, cm_ts, cmm_ts)\n",
    "\n",
    "Gx = G_da\n",
    "X = xi_da\n",
    "\n",
    "res, mape, psas, pda = DecodeFactor.report_factor_metrics(G0, Gx, X, cs_ts, mat_A_nec, vec_b_nec, z_ts, True)"
   ]
  },
  {
   "cell_type": "markdown",
   "metadata": {},
   "source": [
    "## Two dynamic arbitrage factors"
   ]
  },
  {
   "cell_type": "code",
   "execution_count": 5,
   "metadata": {
    "ExecuteTime": {
     "end_time": "2021-08-19T12:16:29.534697Z",
     "start_time": "2021-08-19T12:16:29.225623Z"
    }
   },
   "outputs": [
    {
     "name": "stdout",
     "output_type": "stream",
     "text": [
      "Residual norm: 0.2852\n",
      "MAPE:          17.22%\n",
      "PSAS:          69.85%\n",
      "PDA:           0.75%\n"
     ]
    }
   ],
   "source": [
    "# parameters\n",
    "n_da_factor = 2  # number of dynamic arbitrage factor\n",
    "\n",
    "# decode dynamic arbitrage factors\n",
    "G_da, xi_da = DecodeFactor.decode_dynarb_factor(\n",
    "    res0, n_da_factor, model_S_initial, X_S, cT_ts, cm_ts, cmm_ts)\n",
    "\n",
    "Gx = G_da\n",
    "X = xi_da\n",
    "\n",
    "res, mape, psas, pda = DecodeFactor.report_factor_metrics(G0, Gx, X, cs_ts, mat_A_nec, vec_b_nec, z_ts, True)"
   ]
  },
  {
   "cell_type": "markdown",
   "metadata": {},
   "source": [
    "## One dynamic arbitrage factor and one static arbitrage factor"
   ]
  },
  {
   "cell_type": "code",
   "execution_count": 7,
   "metadata": {
    "ExecuteTime": {
     "end_time": "2021-08-19T12:20:51.732542Z",
     "start_time": "2021-08-19T12:18:58.327448Z"
    }
   },
   "outputs": [
    {
     "name": "stdout",
     "output_type": "stream",
     "text": [
      "Searching for the static-arbitrage minimisation direction for projection.\n",
      "****** Py-BOBYQA Results ******\n",
      "Solution xmin = [ 0.72175876 -0.25943467 -0.27096681 -0.03083228  0.02673118 -0.01994683]\n",
      "Objective value f(xmin) = -9951.829429\n",
      "Needed 6350 objective evaluations (at 6350 points)\n",
      "Did a total of 42 runs\n",
      "Approximate gradient = [ 13.7996479  -43.54494982  15.61568002  -1.28424445 -39.79832513\n",
      "  75.306725  ]\n",
      "Approximate Hessian = [[ 1.76618998e+10 -4.75737772e+09 -5.04413414e+09 -1.57491732e+09\n",
      "  -1.67914167e+09  7.08978991e+09]\n",
      " [-4.75737772e+09  6.93915631e+09 -2.00835463e+09 -8.11150129e+08\n",
      "   1.65436253e+09 -8.43461281e+09]\n",
      " [-5.04413414e+09 -2.00835463e+09  1.33980779e+10  3.06552612e+09\n",
      "   2.97797379e+09 -6.75036949e+09]\n",
      " [-1.57491732e+09 -8.11150129e+08  3.06552612e+09  3.81077529e+09\n",
      "   3.78088406e+09  2.02116765e+09]\n",
      " [-1.67914167e+09  1.65436253e+09  2.97797379e+09  3.78088406e+09\n",
      "   7.93658315e+09 -5.78279433e+09]\n",
      " [ 7.08978991e+09 -8.43461281e+09 -6.75036949e+09  2.02116765e+09\n",
      "  -5.78279433e+09  1.98991517e+10]]\n",
      "Exit flag = 0\n",
      "Success: Reached maximum total number of unsuccessful restarts\n",
      "******************************\n",
      "\n"
     ]
    }
   ],
   "source": [
    "# parameters\n",
    "n_da_factor = 1  # number of dynamic arbitrage factor\n",
    "n_sa_factor = 1\n",
    "n_PC = 6\n",
    "\n",
    "# decode dynamic arbitrage factors\n",
    "G_da, xi_da = DecodeFactor.decode_dynarb_factor(\n",
    "    res0, n_da_factor, model_S_initial, X_S, cT_ts, cm_ts, cmm_ts)\n",
    "\n",
    "res1 = res0 - xi_da.dot(G_da)\n",
    "\n",
    "# decode static arbitrage factors\n",
    "rhs0 = vec_b_nec - G0.dot(mat_A_nec.T)\n",
    "rhs1 = rhs0[:, None] - mat_A_nec.dot(G_da.reshape((-1, 1))). \\\n",
    "    dot(xi_da.reshape((1, -1)))\n",
    "\n",
    "G_sa, xi_sa, weights = DecodeFactor.decode_stcarb_factor(\n",
    "    res1, n_sa_factor, n_PC, mat_A_nec, rhs1)"
   ]
  },
  {
   "cell_type": "code",
   "execution_count": 9,
   "metadata": {
    "ExecuteTime": {
     "end_time": "2021-08-19T12:21:21.727142Z",
     "start_time": "2021-08-19T12:21:21.687440Z"
    }
   },
   "outputs": [
    {
     "name": "stdout",
     "output_type": "stream",
     "text": [
      "Residual norm: 0.1706\n",
      "MAPE:          4.51%\n",
      "PSAS:          0.49%\n",
      "PDA:           2.72%\n"
     ]
    }
   ],
   "source": [
    "# combine factors\n",
    "Gx = np.vstack((G_da, G_sa))\n",
    "X = np.hstack((xi_da, xi_sa))\n",
    "\n",
    "res, mape, psas, pda = DecodeFactor.report_factor_metrics(G0, Gx, X, cs_ts, mat_A_nec, vec_b_nec, z_ts, True)"
   ]
  },
  {
   "cell_type": "markdown",
   "metadata": {},
   "source": [
    "## One dynamic factor and one statistical accuracy factor"
   ]
  },
  {
   "cell_type": "code",
   "execution_count": 10,
   "metadata": {
    "ExecuteTime": {
     "end_time": "2021-08-19T12:23:58.076886Z",
     "start_time": "2021-08-19T12:23:57.738094Z"
    }
   },
   "outputs": [
    {
     "name": "stdout",
     "output_type": "stream",
     "text": [
      "Residual norm: 0.1129\n",
      "MAPE:          5.11%\n",
      "PSAS:          28.11%\n",
      "PDA:           3.21%\n"
     ]
    }
   ],
   "source": [
    "# parameters\n",
    "n_da_factor = 1  # number of dynamic arbitrage factor\n",
    "n_pca_factor = 1\n",
    "\n",
    "# decode dynamic arbitrage factors\n",
    "G_da, xi_da = DecodeFactor.decode_dynarb_factor(\n",
    "    res0, n_da_factor, model_S_initial, X_S, cT_ts, cm_ts, cmm_ts)\n",
    "\n",
    "res1 = res0 - xi_da.dot(G_da)\n",
    "\n",
    "G_pca, xi_pca = DecodeFactor.decode_pca_factor(res1, n_pca_factor)\n",
    "\n",
    "# combine factors\n",
    "Gx = np.vstack((G_da, G_pca))\n",
    "X = np.hstack((xi_da, xi_pca))\n",
    "\n",
    "res, mape, psas, pda = DecodeFactor.report_factor_metrics(G0, Gx, X, cs_ts, mat_A_nec, vec_b_nec, z_ts, True)"
   ]
  },
  {
   "cell_type": "markdown",
   "metadata": {},
   "source": [
    "## Two statistical accuracy factors"
   ]
  },
  {
   "cell_type": "code",
   "execution_count": 11,
   "metadata": {
    "ExecuteTime": {
     "end_time": "2021-08-19T12:25:12.127793Z",
     "start_time": "2021-08-19T12:25:12.039865Z"
    }
   },
   "outputs": [
    {
     "name": "stdout",
     "output_type": "stream",
     "text": [
      "Residual norm: 0.0728\n",
      "MAPE:          2.84%\n",
      "PSAS:          39.44%\n",
      "PDA:           4.46%\n"
     ]
    }
   ],
   "source": [
    "# parameters\n",
    "n_pca_factor = 2\n",
    "\n",
    "G_pca, xi_pca = DecodeFactor.decode_pca_factor(res0, n_pca_factor)\n",
    "\n",
    "# combine factors\n",
    "Gx = G_pca\n",
    "X = xi_pca\n",
    "\n",
    "res, mape, psas, pda = DecodeFactor.report_factor_metrics(G0, Gx, X, cs_ts, mat_A_nec, vec_b_nec, z_ts, True)"
   ]
  },
  {
   "cell_type": "code",
   "execution_count": null,
   "metadata": {},
   "outputs": [],
   "source": []
  }
 ],
 "metadata": {
  "kernelspec": {
   "display_name": "Python 3",
   "language": "python",
   "name": "python3"
  },
  "language_info": {
   "codemirror_mode": {
    "name": "ipython",
    "version": 3
   },
   "file_extension": ".py",
   "mimetype": "text/x-python",
   "name": "python",
   "nbconvert_exporter": "python",
   "pygments_lexer": "ipython3",
   "version": "3.6.9"
  },
  "toc": {
   "base_numbering": 1,
   "nav_menu": {},
   "number_sections": true,
   "sideBar": true,
   "skip_h1_title": false,
   "title_cell": "Table of Contents",
   "title_sidebar": "Contents",
   "toc_cell": false,
   "toc_position": {},
   "toc_section_display": true,
   "toc_window_display": true
  }
 },
 "nbformat": 4,
 "nbformat_minor": 4
}
